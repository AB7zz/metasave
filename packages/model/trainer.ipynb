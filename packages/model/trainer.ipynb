{
 "cells": [
  {
   "cell_type": "code",
   "execution_count": 10,
   "metadata": {},
   "outputs": [],
   "source": [
    "import numpy as np\n",
    "import tensorflow as tf\n",
    "from tensorflow.keras.layers import TimeDistributed, LSTM, Dense, GlobalAveragePooling2D, Conv2D, MaxPooling2D, Flatten\n",
    "from tensorflow.keras.models import Model\n",
    "import os\n",
    "import cv2"
   ]
  },
  {
   "cell_type": "code",
   "execution_count": 3,
   "metadata": {},
   "outputs": [
    {
     "name": "stdout",
     "output_type": "stream",
     "text": [
      "99\n"
     ]
    }
   ],
   "source": [
    "# Step 1: Calculate average frame count\n",
    "def get_average_frame_count(video_folders):\n",
    "    frame_counts = []\n",
    "    for folder in video_folders:\n",
    "        frame_count = len([f for f in os.listdir(folder) if f.endswith('.jpg') or f.endswith('.png')])\n",
    "        frame_counts.append(frame_count)\n",
    "    return int(np.mean(frame_counts))\n",
    "\n",
    "# Function to get list of subfolder paths\n",
    "def get_subfolder_paths(folder_path):\n",
    "    subfolder_paths = []\n",
    "    # Iterate over all items in the directory\n",
    "    for item in os.listdir(folder_path):\n",
    "        item_path = os.path.join(folder_path, item)\n",
    "        # Check if the item is a directory\n",
    "        if os.path.isdir(item_path):\n",
    "            subfolder_paths.append(item_path)\n",
    "    return subfolder_paths\n",
    "\n",
    "# Example usage:\n",
    "folder_path = r\"C:\\Users\\alosh\\Downloads\\FallDataset\"  # Replace with the path to your folder\n",
    "video_folders = get_subfolder_paths(folder_path)\n",
    "\n",
    " # Fill this with your actual video folder paths\n",
    "AVG_FRAME_COUNT = get_average_frame_count(video_folders)\n",
    "\n",
    "print(AVG_FRAME_COUNT)"
   ]
  },
  {
   "cell_type": "code",
   "execution_count": 14,
   "metadata": {},
   "outputs": [],
   "source": [
    "# Step 2: Preprocess videos\n",
    "def preprocess_video(folder_path, target_frames=AVG_FRAME_COUNT, target_size=(640, 480)):\n",
    "    frames = []\n",
    "    frame_files = sorted([f for f in os.listdir(folder_path) if f.endswith('.jpg') or f.endswith('.png')])\n",
    "    \n",
    "    for frame_file in frame_files:\n",
    "        frame = cv2.imread(os.path.join(folder_path, frame_file))\n",
    "        frame = cv2.resize(frame, target_size)\n",
    "        frame = frame / 255.0  # Normalize pixel values\n",
    "        frames.append(frame)\n",
    "    \n",
    "    # Pad or truncate\n",
    "    if len(frames) < target_frames:\n",
    "        frames += [np.zeros_like(frames[0])] * (target_frames - len(frames))\n",
    "    elif len(frames) > target_frames:\n",
    "        frames = frames[:target_frames]\n",
    "    \n",
    "    return np.array(frames)\n",
    "\n",
    "# Step 3: Build the model\n",
    "def build_cnn_lstm_model(input_shape):\n",
    "    # Define a simple CNN model\n",
    "    def cnn_model():\n",
    "        inputs = tf.keras.Input(shape=input_shape[1:])\n",
    "        x = Conv2D(32, (3, 3), activation='relu')(inputs)\n",
    "        x = MaxPooling2D((2, 2))(x)\n",
    "        x = Conv2D(64, (3, 3), activation='relu')(x)\n",
    "        x = MaxPooling2D((2, 2))(x)\n",
    "        x = Conv2D(64, (3, 3), activation='relu')(x)\n",
    "        x = GlobalAveragePooling2D()(x)\n",
    "        return Model(inputs, x)\n",
    "    \n",
    "    # Create our model\n",
    "    inputs = tf.keras.Input(shape=input_shape)\n",
    "    print(inputs)\n",
    "    x = TimeDistributed(cnn_model())(inputs)\n",
    "    x = LSTM(256, return_sequences=True)(x)\n",
    "    x = LSTM(128)(x)\n",
    "    outputs = Dense(1, activation='sigmoid')(x)\n",
    "    \n",
    "    model = Model(inputs, outputs)\n",
    "    return model"
   ]
  },
  {
   "cell_type": "code",
   "execution_count": 15,
   "metadata": {},
   "outputs": [
    {
     "name": "stdout",
     "output_type": "stream",
     "text": [
      "<KerasTensor shape=(None, 99, 480, 640, 3), dtype=float32, sparse=None, name=keras_tensor_197>\n"
     ]
    },
    {
     "ename": "NotImplementedError",
     "evalue": "Exception encountered when calling TimeDistributed.call().\n\n\u001b[1mLayer Functional should implement `def compute_output_shape(self, input_shape)`.\u001b[0m\n\nArguments received by TimeDistributed.call():\n  • args=('<KerasTensor shape=(None, 99, 480, 640, 3), dtype=float32, sparse=None, name=keras_tensor_197>',)\n  • kwargs={'mask': 'None'}",
     "output_type": "error",
     "traceback": [
      "\u001b[1;31m---------------------------------------------------------------------------\u001b[0m",
      "\u001b[1;31mNotImplementedError\u001b[0m                       Traceback (most recent call last)",
      "Cell \u001b[1;32mIn[15], line 5\u001b[0m\n\u001b[0;32m      2\u001b[0m INPUT_SHAPE \u001b[38;5;241m=\u001b[39m (AVG_FRAME_COUNT, \u001b[38;5;241m480\u001b[39m, \u001b[38;5;241m640\u001b[39m, \u001b[38;5;241m3\u001b[39m)\n\u001b[0;32m      4\u001b[0m \u001b[38;5;66;03m# Build and compile the model\u001b[39;00m\n\u001b[1;32m----> 5\u001b[0m model \u001b[38;5;241m=\u001b[39m \u001b[43mbuild_cnn_lstm_model\u001b[49m\u001b[43m(\u001b[49m\u001b[43mINPUT_SHAPE\u001b[49m\u001b[43m)\u001b[49m\n\u001b[0;32m      6\u001b[0m model\u001b[38;5;241m.\u001b[39mcompile(optimizer\u001b[38;5;241m=\u001b[39m\u001b[38;5;124m'\u001b[39m\u001b[38;5;124madam\u001b[39m\u001b[38;5;124m'\u001b[39m, loss\u001b[38;5;241m=\u001b[39m\u001b[38;5;124m'\u001b[39m\u001b[38;5;124mbinary_crossentropy\u001b[39m\u001b[38;5;124m'\u001b[39m, metrics\u001b[38;5;241m=\u001b[39m[\u001b[38;5;124m'\u001b[39m\u001b[38;5;124maccuracy\u001b[39m\u001b[38;5;124m'\u001b[39m])\n\u001b[0;32m      8\u001b[0m \u001b[38;5;66;03m# Step 4: Training loop\u001b[39;00m\n",
      "Cell \u001b[1;32mIn[14], line 36\u001b[0m, in \u001b[0;36mbuild_cnn_lstm_model\u001b[1;34m(input_shape)\u001b[0m\n\u001b[0;32m     34\u001b[0m inputs \u001b[38;5;241m=\u001b[39m tf\u001b[38;5;241m.\u001b[39mkeras\u001b[38;5;241m.\u001b[39mInput(shape\u001b[38;5;241m=\u001b[39minput_shape)\n\u001b[0;32m     35\u001b[0m \u001b[38;5;28mprint\u001b[39m(inputs)\n\u001b[1;32m---> 36\u001b[0m x \u001b[38;5;241m=\u001b[39m \u001b[43mTimeDistributed\u001b[49m\u001b[43m(\u001b[49m\u001b[43mcnn_model\u001b[49m\u001b[43m(\u001b[49m\u001b[43m)\u001b[49m\u001b[43m)\u001b[49m\u001b[43m(\u001b[49m\u001b[43minputs\u001b[49m\u001b[43m)\u001b[49m\n\u001b[0;32m     37\u001b[0m x \u001b[38;5;241m=\u001b[39m LSTM(\u001b[38;5;241m256\u001b[39m, return_sequences\u001b[38;5;241m=\u001b[39m\u001b[38;5;28;01mTrue\u001b[39;00m)(x)\n\u001b[0;32m     38\u001b[0m x \u001b[38;5;241m=\u001b[39m LSTM(\u001b[38;5;241m128\u001b[39m)(x)\n",
      "File \u001b[1;32mc:\\Users\\alosh\\anaconda3\\envs\\tf\\lib\\site-packages\\keras\\src\\utils\\traceback_utils.py:122\u001b[0m, in \u001b[0;36mfilter_traceback.<locals>.error_handler\u001b[1;34m(*args, **kwargs)\u001b[0m\n\u001b[0;32m    119\u001b[0m     filtered_tb \u001b[38;5;241m=\u001b[39m _process_traceback_frames(e\u001b[38;5;241m.\u001b[39m__traceback__)\n\u001b[0;32m    120\u001b[0m     \u001b[38;5;66;03m# To get the full stack trace, call:\u001b[39;00m\n\u001b[0;32m    121\u001b[0m     \u001b[38;5;66;03m# `keras.config.disable_traceback_filtering()`\u001b[39;00m\n\u001b[1;32m--> 122\u001b[0m     \u001b[38;5;28;01mraise\u001b[39;00m e\u001b[38;5;241m.\u001b[39mwith_traceback(filtered_tb) \u001b[38;5;28;01mfrom\u001b[39;00m \u001b[38;5;28;01mNone\u001b[39;00m\n\u001b[0;32m    123\u001b[0m \u001b[38;5;28;01mfinally\u001b[39;00m:\n\u001b[0;32m    124\u001b[0m     \u001b[38;5;28;01mdel\u001b[39;00m filtered_tb\n",
      "File \u001b[1;32mc:\\Users\\alosh\\anaconda3\\envs\\tf\\lib\\site-packages\\keras\\src\\layers\\layer.py:1055\u001b[0m, in \u001b[0;36mLayer.compute_output_shape\u001b[1;34m(self, *args, **kwargs)\u001b[0m\n\u001b[0;32m   1053\u001b[0m \u001b[38;5;129m@utils\u001b[39m\u001b[38;5;241m.\u001b[39mdefault\n\u001b[0;32m   1054\u001b[0m \u001b[38;5;28;01mdef\u001b[39;00m \u001b[38;5;21mcompute_output_shape\u001b[39m(\u001b[38;5;28mself\u001b[39m, \u001b[38;5;241m*\u001b[39margs, \u001b[38;5;241m*\u001b[39m\u001b[38;5;241m*\u001b[39mkwargs):\n\u001b[1;32m-> 1055\u001b[0m     \u001b[38;5;28;01mraise\u001b[39;00m \u001b[38;5;167;01mNotImplementedError\u001b[39;00m(\n\u001b[0;32m   1056\u001b[0m         \u001b[38;5;124mf\u001b[39m\u001b[38;5;124m\"\u001b[39m\u001b[38;5;124mLayer \u001b[39m\u001b[38;5;132;01m{\u001b[39;00m\u001b[38;5;28mself\u001b[39m\u001b[38;5;241m.\u001b[39m\u001b[38;5;18m__class__\u001b[39m\u001b[38;5;241m.\u001b[39m\u001b[38;5;18m__name__\u001b[39m\u001b[38;5;132;01m}\u001b[39;00m\u001b[38;5;124m should implement \u001b[39m\u001b[38;5;124m\"\u001b[39m\n\u001b[0;32m   1057\u001b[0m         \u001b[38;5;124m\"\u001b[39m\u001b[38;5;124m`def compute_output_shape(self, input_shape)`.\u001b[39m\u001b[38;5;124m\"\u001b[39m\n\u001b[0;32m   1058\u001b[0m     )\n",
      "\u001b[1;31mNotImplementedError\u001b[0m: Exception encountered when calling TimeDistributed.call().\n\n\u001b[1mLayer Functional should implement `def compute_output_shape(self, input_shape)`.\u001b[0m\n\nArguments received by TimeDistributed.call():\n  • args=('<KerasTensor shape=(None, 99, 480, 640, 3), dtype=float32, sparse=None, name=keras_tensor_197>',)\n  • kwargs={'mask': 'None'}"
     ]
    }
   ],
   "source": [
    "# Define input shape\n",
    "INPUT_SHAPE = (AVG_FRAME_COUNT, 480, 640, 3)\n",
    "\n",
    "# Build and compile the model\n",
    "model = build_cnn_lstm_model(INPUT_SHAPE)\n",
    "model.compile(optimizer='adam', loss='binary_crossentropy', metrics=['accuracy'])\n",
    "\n",
    "# Step 4: Training loop\n",
    "def train_model(model, video_folders, epochs=10, batch_size=4):\n",
    "    for epoch in range(epochs):\n",
    "        print(f\"Epoch {epoch+1}/{epochs}\")\n",
    "        for i in range(0, len(video_folders), batch_size):\n",
    "            batch_folders = video_folders[i:i+batch_size]\n",
    "            \n",
    "            batch_data = []\n",
    "            for folder in batch_folders:\n",
    "                frames = preprocess_video(folder)\n",
    "                batch_data.append(frames)\n",
    "            \n",
    "            batch_data = np.array(batch_data)\n",
    "            batch_labels = np.ones(len(batch_data))  # All sequences are falls\n",
    "            \n",
    "            loss, accuracy = model.train_on_batch(batch_data, batch_labels)\n",
    "            print(f\"Batch {i//batch_size + 1} - Loss: {loss:.4f}, Accuracy: {accuracy:.4f}\")\n",
    "\n",
    "# Train the model\n",
    "train_model(model, video_folders)\n",
    "\n",
    "# Save the model\n",
    "model.save('fall_recognition_model.h5')\n",
    "\n",
    "# Function to predict fall likelihood\n",
    "def predict_fall(model, video_folder):\n",
    "    frames = preprocess_video(video_folder)\n",
    "    frames = np.expand_dims(frames, axis=0)  # Add batch dimension\n",
    "    prediction = model.predict(frames)[0]\n",
    "    return prediction\n",
    "\n",
    "# Example usage:\n",
    "# fall_likelihood = predict_fall(model, 'path/to/test_video_folder')\n",
    "# print(f\"Fall likelihood: {fall_likelihood[0]:.2f}\")"
   ]
  }
 ],
 "metadata": {
  "kernelspec": {
   "display_name": "tf",
   "language": "python",
   "name": "tf"
  },
  "language_info": {
   "codemirror_mode": {
    "name": "ipython",
    "version": 3
   },
   "file_extension": ".py",
   "mimetype": "text/x-python",
   "name": "python",
   "nbconvert_exporter": "python",
   "pygments_lexer": "ipython3",
   "version": "3.10.11"
  }
 },
 "nbformat": 4,
 "nbformat_minor": 2
}
